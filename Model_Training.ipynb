{
 "cells": [
  {
   "cell_type": "code",
   "execution_count": 3,
   "metadata": {},
   "outputs": [
    {
     "name": "stderr",
     "output_type": "stream",
     "text": [
      "In /opt/conda/lib/python3.6/site-packages/matplotlib/mpl-data/stylelib/_classic_test.mplstyle: \n",
      "The text.latex.unicode rcparam was deprecated in Matplotlib 3.0 and will be removed in 3.2.\n",
      "In /opt/conda/lib/python3.6/site-packages/matplotlib/mpl-data/stylelib/_classic_test.mplstyle: \n",
      "The savefig.frameon rcparam was deprecated in Matplotlib 3.1 and will be removed in 3.3.\n",
      "In /opt/conda/lib/python3.6/site-packages/matplotlib/mpl-data/stylelib/_classic_test.mplstyle: \n",
      "The pgf.debug rcparam was deprecated in Matplotlib 3.0 and will be removed in 3.2.\n",
      "In /opt/conda/lib/python3.6/site-packages/matplotlib/mpl-data/stylelib/_classic_test.mplstyle: \n",
      "The verbose.level rcparam was deprecated in Matplotlib 3.1 and will be removed in 3.3.\n",
      "In /opt/conda/lib/python3.6/site-packages/matplotlib/mpl-data/stylelib/_classic_test.mplstyle: \n",
      "The verbose.fileo rcparam was deprecated in Matplotlib 3.1 and will be removed in 3.3.\n"
     ]
    }
   ],
   "source": [
    "from sklearn.experimental import enable_halving_search_cv\n",
    "import pandas as pd\n",
    "import numpy as np\n",
    "import matplotlib.pyplot as plt\n",
    "import scipy\n",
    "from sklearn.model_selection import GridSearchCV, train_test_split, HalvingGridSearchCV\n",
    "from sklearn.decomposition import PCA\n",
    "from sklearn.linear_model import Ridge\n",
    "from sklearn.neighbors import KNeighborsRegressor\n",
    "from sklearn.svm import SVR\n",
    "from sklearn.ensemble import RandomForestRegressor\n",
    "import collections\n",
    "import random\n",
    "from math import sqrt\n",
    "import sklearn\n",
    "import joblib\n",
    "from joblib import parallel_backend\n",
    "import copy"
   ]
  },
  {
   "cell_type": "markdown",
   "metadata": {},
   "source": [
    "## Load Data"
   ]
  },
  {
   "cell_type": "code",
   "execution_count": 2,
   "metadata": {},
   "outputs": [
    {
     "data": {
      "text/plain": [
       "'nan'"
      ]
     },
     "execution_count": 2,
     "metadata": {},
     "output_type": "execute_result"
    }
   ],
   "source": [
    "#load training data\n",
    "df = pd.read_csv('Input/ogden_viral_selection_AAV2_sequences_VP1.csv')\n",
    "a_list=df['AA_Sequences'].tolist()\n",
    "a_list=[str(i) for i in a_list]\n",
    "a_list.pop(0) #Make sure to account for this in applying selection_wt_norm_AVG. This was to remove the first empty entry 'nan'."
   ]
  },
  {
   "cell_type": "code",
   "execution_count": null,
   "metadata": {},
   "outputs": [],
   "source": [
    "# Here you can provide whatever embeddings you would generate from either a protein language model or some other amino acid representation.\n",
    "#hvg = get_embeddings(a_list)\n",
    "#np.savetxt('Input/hvgVP1.txt',hvg,fmt='%s')"
   ]
  },
  {
   "cell_type": "code",
   "execution_count": 5,
   "metadata": {},
   "outputs": [
    {
     "name": "stdout",
     "output_type": "stream",
     "text": [
      "(30844, 1900) (30844,)\n"
     ]
    }
   ],
   "source": [
    "X = np.loadtxt('Input/hvgVP1.txt')\n",
    "df = pd.read_csv('Input/ogden_viral_selection_AAV2_sequences_VP1.csv')\n",
    "y = df['selection_wt_norm_AVG']\n",
    "y.pop(0)\n",
    "print(X.shape, y.shape)"
   ]
  },
  {
   "cell_type": "markdown",
   "metadata": {},
   "source": [
    "### Rebalance Data by Removing Low Fitness Score Sequences from Dataset"
   ]
  },
  {
   "cell_type": "code",
   "execution_count": 6,
   "metadata": {},
   "outputs": [
    {
     "name": "stdout",
     "output_type": "stream",
     "text": [
      "{3: 8235, 5: 2242, 4: 6525, 2: 8746, 6: 202, 1: 4836, 0: 58}\n",
      "[(0, 58), (6, 202), (5, 2242), (1, 4836), (4, 6525), (3, 8235), (2, 8746)]\n",
      "5095\n"
     ]
    }
   ],
   "source": [
    "random.seed(a=42)\n",
    "inds= np.digitize(y,[-2.0,-1.5,-1.0,-0.5,0,0.5])\n",
    "frequency = collections.Counter(inds)\n",
    "print(dict(frequency))\n",
    "print(sorted(dict(frequency).items(), key = lambda kv:(kv[1], kv[0])))  \n",
    "delete_index=[idx for idx, element in enumerate(inds) if element==2 or element==3]\n",
    "remove_sequence_index=random.sample(delete_index,5095)\n",
    "print(len(remove_sequence_index))"
   ]
  },
  {
   "cell_type": "code",
   "execution_count": 9,
   "metadata": {},
   "outputs": [
    {
     "name": "stdout",
     "output_type": "stream",
     "text": [
      "25749\n",
      "(25749, 1900)\n"
     ]
    }
   ],
   "source": [
    "ydel=copy.deepcopy(list(y))\n",
    "xdel=copy.deepcopy(X)\n",
    "for index in sorted(remove_sequence_index, reverse=True):\n",
    "    del ydel[index]\n",
    "print(len(ydel))\n",
    "xdel=np.delete(xdel,remove_sequence_index,0)\n",
    "print(xdel.shape)"
   ]
  },
  {
   "cell_type": "markdown",
   "metadata": {},
   "source": [
    "### Train / Test Split"
   ]
  },
  {
   "cell_type": "code",
   "execution_count": 10,
   "metadata": {},
   "outputs": [
    {
     "data": {
      "text/plain": [
       "((20599, 1900), (5150, 1900), 20599, 5150)"
      ]
     },
     "execution_count": 10,
     "metadata": {},
     "output_type": "execute_result"
    }
   ],
   "source": [
    "train_size = 0.8\n",
    "Xs_train, Xs_test, ys_train, ys_test = train_test_split(xdel, ydel, train_size=train_size, random_state=42)\n",
    "Xs_train.shape, Xs_test.shape, len(ys_train), len(ys_test)"
   ]
  },
  {
   "cell_type": "markdown",
   "metadata": {},
   "source": [
    "### PCA"
   ]
  },
  {
   "cell_type": "code",
   "execution_count": 11,
   "metadata": {},
   "outputs": [],
   "source": [
    "pca = PCA(60)\n",
    "Xs_train_pca = pca.fit_transform(Xs_train)"
   ]
  },
  {
   "cell_type": "markdown",
   "metadata": {},
   "source": [
    "## Visualize Embeddings\n",
    "\n",
    "Here, we plot the first two principal components on the x and y axes. Each point is then colored by its scaled effect (what we want to predict).\n"
   ]
  },
  {
   "cell_type": "code",
   "execution_count": 12,
   "metadata": {},
   "outputs": [
    {
     "data": {
      "text/plain": [
       "<matplotlib.colorbar.Colorbar at 0x7f3de2fcbe48>"
      ]
     },
     "execution_count": 12,
     "metadata": {},
     "output_type": "execute_result"
    },
    {
     "data": {
      "image/png": "[encoded data removed]",
      "text/plain": [
       "<Figure size 504x432 with 2 Axes>"
      ]
     },
     "metadata": {
      "needs_background": "light"
     },
     "output_type": "display_data"
    }
   ],
   "source": [
    "fig_dims = (7, 6)\n",
    "fig, ax = plt.subplots(figsize=fig_dims)\n",
    "sc = ax.scatter(Xs_train_pca[:,0], Xs_train_pca[:,1], c=ys_train, marker='.')\n",
    "ax.set_xlabel('PCA first principal component')\n",
    "ax.set_ylabel('PCA second principal component')\n",
    "plt.colorbar(sc, label='Fitness Score')"
   ]
  },
  {
   "cell_type": "markdown",
   "metadata": {},
   "source": [
    "<a id='grid_search'></a>\n",
    "\n",
    "## Initialize / Run GridSearch\n",
    "\n",
    "We will run grid search for four different regression models:\n",
    "1. [K-nearest-neighbors](https://scikit-learn.org/stable/modules/generated/sklearn.neighbors.KNeighborsRegressor.html)\n",
    "2. [SVM](https://scikit-learn.org/stable/modules/generated/sklearn.svm.SVR.html?highlight=svr#sklearn.svm.SVR)\n",
    "3. [Random Forest Regressor](https://scikit-learn.org/stable/modules/generated/sklearn.ensemble.RandomForestRegressor.html?highlight=randomforestregressor#sklearn.ensemble.RandomForestRegressor)\n",
    "4. [Ridge](https://scikit-learn.org/stable/modules/generated/sklearn.linear_model.Ridge.html?)"
   ]
  },
  {
   "cell_type": "markdown",
   "metadata": {},
   "source": [
    "### Initialize grids for different regression techniques"
   ]
  },
  {
   "cell_type": "code",
   "execution_count": 13,
   "metadata": {},
   "outputs": [],
   "source": [
    "knn_grid = {\n",
    "    'n_neighbors': [5, 10],\n",
    "    'weights': ['uniform', 'distance'],\n",
    "    'algorithm': ['ball_tree', 'kd_tree', 'brute'],\n",
    "    'leaf_size' : [15, 30],\n",
    "    'p' : [1, 2],\n",
    "}\n",
    "\n",
    "svm_grid = {\n",
    "    'C' : [0.1, 1.0, 10.0],\n",
    "    'kernel' :['linear', 'poly', 'rbf', 'sigmoid'],\n",
    "    'degree' : [3],\n",
    "    'gamma': ['scale'],\n",
    "}\n",
    "\n",
    "rfr_grid = {\n",
    "    'n_estimators' : [20],\n",
    "    'criterion' : ['mse', 'mae'],\n",
    "    'max_features': ['sqrt', 'log2'],\n",
    "    'min_samples_split' : [5, 10],\n",
    "    'min_samples_leaf': [1, 4]\n",
    "}\n",
    "r_grid = {'solver':['svd', 'cholesky', 'lsqr', 'sparse_cg', 'sag', 'saga']}"
   ]
  },
  {
   "cell_type": "code",
   "execution_count": 17,
   "metadata": {},
   "outputs": [],
   "source": [
    "cls_list = [KNeighborsRegressor, SVR, RandomForestRegressor, Ridge]\n",
    "param_grid_list = [knn_grid, svm_grid, rfr_grid, r_grid]"
   ]
  },
  {
   "cell_type": "markdown",
   "metadata": {},
   "source": [
    "### Run Grid Search \n"
   ]
  },
  {
   "cell_type": "code",
   "execution_count": 18,
   "metadata": {
    "scrolled": true
   },
   "outputs": [
    {
     "name": "stdout",
     "output_type": "stream",
     "text": [
      "<class 'sklearn.neighbors._regression.KNeighborsRegressor'>\n",
      "n_iterations: 4\n",
      "n_required_iterations: 4\n",
      "n_possible_iterations: 4\n",
      "min_resources_: 762\n",
      "max_resources_: 20599\n",
      "aggressive_elimination: False\n",
      "factor: 3\n",
      "----------\n",
      "iter: 0\n",
      "n_candidates: 48\n",
      "n_resources: 762\n",
      "Fitting 5 folds for each of 48 candidates, totalling 240 fits\n",
      "----------\n",
      "iter: 1\n",
      "n_candidates: 16\n",
      "n_resources: 2286\n",
      "Fitting 5 folds for each of 16 candidates, totalling 80 fits\n",
      "----------\n",
      "iter: 2\n",
      "n_candidates: 6\n",
      "n_resources: 6858\n",
      "Fitting 5 folds for each of 6 candidates, totalling 30 fits\n",
      "----------\n",
      "iter: 3\n",
      "n_candidates: 2\n",
      "n_resources: 20574\n",
      "Fitting 5 folds for each of 2 candidates, totalling 10 fits\n",
      "<class 'sklearn.svm._classes.SVR'>\n",
      "n_iterations: 3\n",
      "n_required_iterations: 3\n",
      "n_possible_iterations: 3\n",
      "min_resources_: 2288\n",
      "max_resources_: 20599\n",
      "aggressive_elimination: False\n",
      "factor: 3\n",
      "----------\n",
      "iter: 0\n",
      "n_candidates: 12\n",
      "n_resources: 2288\n",
      "Fitting 5 folds for each of 12 candidates, totalling 60 fits\n",
      "----------\n",
      "iter: 1\n",
      "n_candidates: 4\n",
      "n_resources: 6864\n",
      "Fitting 5 folds for each of 4 candidates, totalling 20 fits\n",
      "----------\n",
      "iter: 2\n",
      "n_candidates: 2\n",
      "n_resources: 20592\n",
      "Fitting 5 folds for each of 2 candidates, totalling 10 fits\n",
      "<class 'sklearn.ensemble._forest.RandomForestRegressor'>\n",
      "n_iterations: 3\n",
      "n_required_iterations: 3\n",
      "n_possible_iterations: 3\n",
      "min_resources_: 2288\n",
      "max_resources_: 20599\n",
      "aggressive_elimination: False\n",
      "factor: 3\n",
      "----------\n",
      "iter: 0\n",
      "n_candidates: 16\n",
      "n_resources: 2288\n",
      "Fitting 5 folds for each of 16 candidates, totalling 80 fits\n",
      "----------\n",
      "iter: 1\n",
      "n_candidates: 6\n",
      "n_resources: 6864\n",
      "Fitting 5 folds for each of 6 candidates, totalling 30 fits\n",
      "----------\n",
      "iter: 2\n",
      "n_candidates: 2\n",
      "n_resources: 20592\n",
      "Fitting 5 folds for each of 2 candidates, totalling 10 fits\n",
      "<class 'sklearn.linear_model._ridge.Ridge'>\n",
      "n_iterations: 2\n",
      "n_required_iterations: 2\n",
      "n_possible_iterations: 2\n",
      "min_resources_: 6866\n",
      "max_resources_: 20599\n",
      "aggressive_elimination: False\n",
      "factor: 3\n",
      "----------\n",
      "iter: 0\n",
      "n_candidates: 6\n",
      "n_resources: 6866\n",
      "Fitting 5 folds for each of 6 candidates, totalling 30 fits\n",
      "----------\n",
      "iter: 1\n",
      "n_candidates: 2\n",
      "n_resources: 20598\n",
      "Fitting 5 folds for each of 2 candidates, totalling 10 fits\n"
     ]
    }
   ],
   "source": [
    "result_list = []\n",
    "grid_list = []\n",
    "for cls_name, param_grid in zip(cls_list, param_grid_list):\n",
    "    print(cls_name)\n",
    "    grid = HalvingGridSearchCV(\n",
    "        estimator = cls_name(), \n",
    "        param_grid = param_grid,\n",
    "        scoring = 'r2',\n",
    "        verbose = 1,\n",
    "        n_jobs = -1 # use all available cores\n",
    "    )\n",
    "    grid.fit(Xs_train, ys_train)\n",
    "    result_list.append(pd.DataFrame.from_dict(grid.cv_results_))\n",
    "    grid_list.append(grid)"
   ]
  },
  {
   "cell_type": "markdown",
   "metadata": {},
   "source": [
    "<a id='browse'></a>\n",
    "## Browse the Sweep Results\n",
    "\n",
    "The following tables show the top 5 parameter settings, based on `mean_test_score`. Given our setup, this should really be thought of as `validation_score`."
   ]
  },
  {
   "cell_type": "markdown",
   "metadata": {},
   "source": [
    "### K Nearest Neighbors"
   ]
  },
  {
   "cell_type": "code",
   "execution_count": null,
   "metadata": {},
   "outputs": [],
   "source": [
    "result_list[0].sort_values('rank_test_score')[:5]"
   ]
  },
  {
   "cell_type": "markdown",
   "metadata": {},
   "source": [
    "### SVM"
   ]
  },
  {
   "cell_type": "code",
   "execution_count": null,
   "metadata": {},
   "outputs": [],
   "source": [
    "result_list[1].sort_values('rank_test_score')[:5]"
   ]
  },
  {
   "cell_type": "markdown",
   "metadata": {},
   "source": [
    "### Random Forest"
   ]
  },
  {
   "cell_type": "code",
   "execution_count": null,
   "metadata": {},
   "outputs": [],
   "source": [
    "result_list[2].sort_values('rank_test_score')[:5]"
   ]
  },
  {
   "cell_type": "markdown",
   "metadata": {},
   "source": [
    "## Ridge"
   ]
  },
  {
   "cell_type": "code",
   "execution_count": null,
   "metadata": {},
   "outputs": [],
   "source": [
    "result_list[3].sort_values('rank_test_score')[:5]"
   ]
  },
  {
   "cell_type": "markdown",
   "metadata": {},
   "source": [
    "<a id='eval'></a>\n",
    "## Evaluation\n",
    "\n",
    "Now that we have run grid search, each `grid` object contains a `best_estimator_`.\n",
    "\n",
    "We can use this to evaluate the correlation between our predictions and the true effect scores on the held-out validation set."
   ]
  },
  {
   "cell_type": "code",
   "execution_count": 19,
   "metadata": {
    "scrolled": true
   },
   "outputs": [
    {
     "name": "stdout",
     "output_type": "stream",
     "text": [
      "KNeighborsRegressor(algorithm='kd_tree', p=1, weights='distance')\n",
      "\n",
      "SpearmanrResult(correlation=0.7203753717052244, pvalue=0.0)\n",
      "Pearson Correlation and P-Score: (0.7232011173597749, 0.0)\n",
      "RMSE: 0.43101389571347476\n",
      "\n",
      " -------------------------------------------------------------------------------- \n",
      "\n",
      "SVR(C=10.0, kernel='linear')\n",
      "\n",
      "SpearmanrResult(correlation=0.5409318990345691, pvalue=0.0)\n",
      "Pearson Correlation and P-Score: (0.519738224913917, 0.0)\n",
      "RMSE: 0.52930705337787\n",
      "\n",
      " -------------------------------------------------------------------------------- \n",
      "\n",
      "RandomForestRegressor(max_features='sqrt', min_samples_leaf=4,\n",
      "                      min_samples_split=5, n_estimators=20)\n",
      "\n",
      "SpearmanrResult(correlation=0.7194360870199125, pvalue=0.0)\n",
      "Pearson Correlation and P-Score: (0.7143269458537931, 0.0)\n",
      "RMSE: 0.44141502527556387\n",
      "\n",
      " -------------------------------------------------------------------------------- \n",
      "\n",
      "Ridge(solver='svd')\n",
      "\n",
      "SpearmanrResult(correlation=0.4450542269010905, pvalue=4.3656055134823816e-249)\n",
      "Pearson Correlation and P-Score: (0.3917238108926385, 1.712881933349501e-188)\n",
      "RMSE: 0.5725596743607784\n",
      "\n",
      " -------------------------------------------------------------------------------- \n",
      "\n"
     ]
    }
   ],
   "source": [
    "for grid in grid_list:\n",
    "    print(grid.best_estimator_)\n",
    "    print()\n",
    "    preds = grid.predict(Xs_test)\n",
    "    print(f'{scipy.stats.spearmanr(ys_test, preds)}')\n",
    "    print(f'Pearson Correlation and P-Score: {scipy.stats.pearsonr(ys_test, preds)}')\n",
    "    print(f'RMSE: {sqrt(sklearn.metrics.mean_squared_error(ys_test, preds))}')\n",
    "    print('\\n', '-' * 80, '\\n')\n"
   ]
  },
  {
   "cell_type": "code",
   "execution_count": 20,
   "metadata": {},
   "outputs": [],
   "source": [
    "KNModel=grid_list[0]\n",
    "SVModel=grid_list[1]\n",
    "RFModel=grid_list[2]\n",
    "RModel=grid_list[3]"
   ]
  },
  {
   "cell_type": "code",
   "execution_count": null,
   "metadata": {},
   "outputs": [],
   "source": [
    "joblib.dump(KNModel, 'Models/AAV_KN_PLM_Model_VP1_Weighted.pkl')\n",
    "joblib.dump(SVModel, 'Models/AAV_SVM_PLM_Model_VP1_Weighted.pkl')\n",
    "joblib.dump(RFModel, 'Models/AAV_RF_PLM_Model_VP1_Weighted.pkl')\n",
    "joblib.dump(RModel, 'Models/AAV_R_PLM_Model_VP1_Weighted.pkl')"
   ]
  },
  {
   "cell_type": "code",
   "execution_count": 13,
   "metadata": {},
   "outputs": [],
   "source": [
    "KNModel=joblib.load('Models/AAV_KN_PLM_Model_VP1_Weighted.pkl')\n",
    "SVModel=joblib.load('Models/AAV_SVM_PLM_Model_VP1_Weighted.pkl')\n",
    "RFModel=joblib.load('Models/AAV_RF_PLM_Model_VP1_Weighted.pkl')\n",
    "RModel=joblib.load('Models/AAV_R_PLM_Model_VP1_Weighted.pkl')"
   ]
  },
  {
   "cell_type": "code",
   "execution_count": null,
   "metadata": {},
   "outputs": [],
   "source": [
    "preds=KNModel.predict(Xs_test)\n",
    "\n",
    "fig, ax = plt.subplots()\n",
    "fig.set_size_inches(18.5, 10.5)\n",
    "ax.scatter(ys_test,preds, s=2)\n",
    "lims = [\n",
    "    np.min([ax.get_xlim(), ax.get_ylim()]),  # min of both axes\n",
    "    np.max([ax.get_xlim(), ax.get_ylim()]),  # max of both axes\n",
    "]\n",
    "ax.plot(lims, lims, 'k-', alpha=0.75, zorder=0)\n",
    "ax.set_aspect('equal')\n",
    "ax.set_xlim(lims)\n",
    "ax.set_ylim(lims)\n",
    "ax.set_xlabel(\"Experimental Fitness Score\")\n",
    "ax.set_ylabel(\"Predicted Fitness Score\")\n",
    "ax.set_title(\"PLM K-Neighbors Correlation\")"
   ]
  },
  {
   "cell_type": "code",
   "execution_count": null,
   "metadata": {},
   "outputs": [],
   "source": [
    "preds=SVModel.predict(Xs_test)\n",
    "\n",
    "fig, ax = plt.subplots()\n",
    "fig.set_size_inches(18.5, 10.5)\n",
    "ax.scatter(ys_test,preds, s=2)\n",
    "lims = [\n",
    "    np.min([ax.get_xlim(), ax.get_ylim()]),  # min of both axes\n",
    "    np.max([ax.get_xlim(), ax.get_ylim()]),  # max of both axes\n",
    "]\n",
    "ax.plot(lims, lims, 'k-', alpha=0.75, zorder=0)\n",
    "ax.set_aspect('equal')\n",
    "ax.set_xlim(lims)\n",
    "ax.set_ylim(lims)\n",
    "ax.set_xlabel(\"Experimental Fitness Score\")\n",
    "ax.set_ylabel(\"Predicted Fitness Score\")\n",
    "ax.set_title(\"PLM SVM Correlation\")"
   ]
  },
  {
   "cell_type": "code",
   "execution_count": null,
   "metadata": {},
   "outputs": [],
   "source": [
    "preds=RFModel.predict(Xs_test)\n",
    "\n",
    "fig, ax = plt.subplots()\n",
    "fig.set_size_inches(18.5, 10.5)\n",
    "ax.scatter(ys_test,preds, s=2)\n",
    "lims = [\n",
    "    np.min([ax.get_xlim(), ax.get_ylim()]),  # min of both axes\n",
    "    np.max([ax.get_xlim(), ax.get_ylim()]),  # max of both axes\n",
    "]\n",
    "ax.plot(lims, lims, 'k-', alpha=0.75, zorder=0)\n",
    "ax.set_aspect('equal')\n",
    "ax.set_xlim(lims)\n",
    "ax.set_ylim(lims)\n",
    "ax.set_xlabel(\"Experimental Fitness Score\")\n",
    "ax.set_ylabel(\"Predicted Fitness Score\")\n",
    "ax.set_title(\"PLM Random Forest Correlation\")"
   ]
  },
  {
   "cell_type": "code",
   "execution_count": null,
   "metadata": {
    "scrolled": true
   },
   "outputs": [],
   "source": [
    "preds=RModel.predict(Xs_test)\n",
    "\n",
    "fig, ax = plt.subplots()\n",
    "fig.set_size_inches(18.5, 10.5)\n",
    "ax.scatter(ys_test,preds, s=2)\n",
    "lims = [\n",
    "    np.min([ax.get_xlim(), ax.get_ylim()]),  # min of both axes\n",
    "    np.max([ax.get_xlim(), ax.get_ylim()]),  # max of both axes\n",
    "]\n",
    "ax.plot(lims, lims, 'k-', alpha=0.75, zorder=0)\n",
    "ax.set_aspect('equal')\n",
    "ax.set_xlim(lims)\n",
    "ax.set_ylim(lims)\n",
    "ax.set_xlabel(\"Experimental Fitness Score\")\n",
    "ax.set_ylabel(\"Predicted Fitness Score\")\n",
    "ax.set_title(\"PLM Ridge Correlation\")"
   ]
  },
  {
   "cell_type": "markdown",
   "metadata": {},
   "source": [
    "## One-Hot Model Training"
   ]
  },
  {
   "cell_type": "code",
   "execution_count": 18,
   "metadata": {},
   "outputs": [],
   "source": [
    "# Adapted from Hsu et al. (2022)\n",
    "aa_to_int = {\n",
    "    'M':1,\n",
    "    'R':2,\n",
    "    'H':3,\n",
    "    'K':4,\n",
    "    'D':5,\n",
    "    'E':6,\n",
    "    'S':7,\n",
    "    'T':8,\n",
    "    'N':9,\n",
    "    'Q':10, 'C':11,\n",
    "    'U':12,\n",
    "    'G':13,\n",
    "    'P':14,\n",
    "    'A':15,\n",
    "    'V':16,\n",
    "    'I':17,\n",
    "    'F':18,\n",
    "    'Y':19,\n",
    "    'W':20,\n",
    "    'L':21,\n",
    "    'O':22, #Pyrrolysine\n",
    "    'X':23, # Unknown\n",
    "    'Z':23, # Glutamic acid or GLutamine\n",
    "    'B':23, # Asparagine or aspartic acid\n",
    "    'J':23, # Leucine or isoleucine\n",
    "    'start':24,\n",
    "    'stop':25,\n",
    "    '-':26,\n",
    "}\n",
    "def seqs_to_onehot(seqs):\n",
    "    seqs = format_batch_seqs(seqs)\n",
    "    X = np.zeros((seqs.shape[0], seqs.shape[1]*24), dtype=int)\n",
    "    for i in range(seqs.shape[1]):\n",
    "        for j in range(24):\n",
    "            X[:, i*24+j] = (seqs[:, i] == j)\n",
    "    return X\n",
    "def format_batch_seqs(seqs):\n",
    "    maxlen = 755\n",
    "#     for s in seqs:\n",
    "#         if len(s) > maxlen:\n",
    "#             maxlen = len(s)\n",
    "    formatted = []\n",
    "    for seq in seqs:\n",
    "        pad_len = maxlen - len(seq)\n",
    "        padded = np.pad(format_seq(seq), (0, pad_len), 'constant', constant_values=0)\n",
    "        formatted.append(padded)\n",
    "    return np.stack(formatted)\n",
    "def format_seq(seq,stop=False):\n",
    "    \"\"\"\n",
    "    Takes an amino acid sequence, returns a list of integers in the codex of the babbler.\n",
    "    Here, the default is to strip the stop symbol (stop=False) which would have \n",
    "    otherwise been added to the end of the sequence. If you are trying to generate\n",
    "    a rep, do not include the stop. It is probably best to ignore the stop if you are\n",
    "    co-tuning the babbler and a top model as well.\n",
    "    \"\"\"\n",
    "    if stop:\n",
    "        int_seq = aa_seq_to_int(seq.strip())\n",
    "    else:\n",
    "        int_seq = aa_seq_to_int(seq.strip())[:-1]\n",
    "    return int_seq\n",
    "def aa_seq_to_int(s):\n",
    "    \"\"\"\n",
    "    Return the int sequence as a list for a given string of amino acids\n",
    "    \"\"\"\n",
    "    return [24] + [aa_to_int[a] for a in s] + [25]"
   ]
  },
  {
   "cell_type": "code",
   "execution_count": 19,
   "metadata": {},
   "outputs": [
    {
     "data": {
      "text/plain": [
       "(25749, 18144)"
      ]
     },
     "execution_count": 19,
     "metadata": {},
     "output_type": "execute_result"
    }
   ],
   "source": [
    "a_listdel=copy.deepcopy(a_list)\n",
    "a_listdel=np.delete(a_listdel,remove_sequence_index,0)\n",
    "onehot=seqs_to_onehot(a_listdel)\n",
    "onehot.shape"
   ]
  },
  {
   "cell_type": "code",
   "execution_count": 20,
   "metadata": {},
   "outputs": [],
   "source": [
    "train_size = 0.8\n",
    "X_train, X_test, y_train, y_test = train_test_split(onehot, ydel, train_size=train_size, random_state=42)"
   ]
  },
  {
   "cell_type": "code",
   "execution_count": 21,
   "metadata": {},
   "outputs": [
    {
     "data": {
      "text/plain": [
       "((20599, 18144), (5150, 18144), 20599, 5150)"
      ]
     },
     "execution_count": 21,
     "metadata": {},
     "output_type": "execute_result"
    }
   ],
   "source": [
    "X_train.shape, X_test.shape, len(y_train), len(y_test)"
   ]
  },
  {
   "cell_type": "markdown",
   "metadata": {},
   "source": [
    "The cell below here is used to make modified_y, which is the label used for one-hot training. This modified_y contains information about the error between the prediction on the training set and the actual experimental data."
   ]
  },
  {
   "cell_type": "code",
   "execution_count": 38,
   "metadata": {},
   "outputs": [],
   "source": [
    "Model=joblib.load('Models/AAV_RF_PLM_Model_VP1_Weighted.pkl')\n",
    "trainpreds=Model.predict(Xs_train)\n",
    "modified_y=np.subtract(y_train,trainpreds)"
   ]
  },
  {
   "cell_type": "code",
   "execution_count": 39,
   "metadata": {},
   "outputs": [
    {
     "name": "stdout",
     "output_type": "stream",
     "text": [
      "SpearmanrResult(correlation=0.7194360870199125, pvalue=0.0)\n",
      "Pearson Correlation and P-Score: (0.7143269458537931, 0.0)\n",
      "RMSE: 0.44141502527556387\n",
      "\n",
      " -------------------------------------------------------------------------------- \n",
      "\n"
     ]
    }
   ],
   "source": [
    "preds = Model.predict(Xs_test)\n",
    "print(f'{scipy.stats.spearmanr(ys_test, preds)}')\n",
    "print(f'Pearson Correlation and P-Score: {scipy.stats.pearsonr(ys_test, preds)}')\n",
    "print(f'RMSE: {sqrt(sklearn.metrics.mean_squared_error(ys_test, preds))}')\n",
    "print('\\n', '-' * 80, '\\n')\n"
   ]
  },
  {
   "cell_type": "code",
   "execution_count": 40,
   "metadata": {
    "scrolled": true
   },
   "outputs": [
    {
     "name": "stdout",
     "output_type": "stream",
     "text": [
      "<class 'sklearn.ensemble._forest.RandomForestRegressor'>\n",
      "n_iterations: 3\n",
      "n_required_iterations: 3\n",
      "n_possible_iterations: 3\n",
      "min_resources_: 2288\n",
      "max_resources_: 20599\n",
      "aggressive_elimination: False\n",
      "factor: 3\n",
      "----------\n",
      "iter: 0\n",
      "n_candidates: 16\n",
      "n_resources: 2288\n",
      "Fitting 5 folds for each of 16 candidates, totalling 80 fits\n",
      "----------\n",
      "iter: 1\n",
      "n_candidates: 6\n",
      "n_resources: 6864\n",
      "Fitting 5 folds for each of 6 candidates, totalling 30 fits\n",
      "----------\n",
      "iter: 2\n",
      "n_candidates: 2\n",
      "n_resources: 20592\n",
      "Fitting 5 folds for each of 2 candidates, totalling 10 fits\n"
     ]
    }
   ],
   "source": [
    "#Use this to force multi-processing\n",
    "with parallel_backend('threading', n_jobs=-1):\n",
    "    cls_list = [RandomForestRegressor]\n",
    "    param_grid_list = [rfr_grid]\n",
    "    result_list = []\n",
    "    grid_list = []\n",
    "    for cls_name, param_grid in zip(cls_list, param_grid_list):\n",
    "        print(cls_name)\n",
    "        grid = HalvingGridSearchCV(\n",
    "            estimator = cls_name(), \n",
    "            param_grid = param_grid,\n",
    "            scoring = 'r2',\n",
    "            verbose = 1,\n",
    "            n_jobs = -1 # use all available cores\n",
    "        )\n",
    "        grid.fit(X_train, modified_y)\n",
    "        result_list.append(pd.DataFrame.from_dict(grid.cv_results_))\n",
    "        grid_list.append(grid)"
   ]
  },
  {
   "cell_type": "code",
   "execution_count": 41,
   "metadata": {},
   "outputs": [
    {
     "name": "stdout",
     "output_type": "stream",
     "text": [
      "RandomForestRegressor(criterion='mae', max_features='log2',\n",
      "                      min_samples_split=10, n_estimators=20)\n",
      "\n",
      "SpearmanrResult(correlation=0.8220541236499732, pvalue=0.0)\n",
      "Pearson Correlation and P-Score: (0.8176850826180919, 0.0)\n",
      "RMSE: 0.36222456304762296\n",
      "\n",
      " -------------------------------------------------------------------------------- \n",
      "\n"
     ]
    }
   ],
   "source": [
    "for grid in grid_list:\n",
    "    print(grid.best_estimator_)\n",
    "    print()\n",
    "    ridgepreds = grid.predict(X_test)\n",
    "    preds = np.add(ridgepreds, Model.predict(Xs_test))\n",
    "    print(f'{scipy.stats.spearmanr(ys_test, preds)}')\n",
    "    print(f'Pearson Correlation and P-Score: {scipy.stats.pearsonr(ys_test, preds)}')\n",
    "    print(f'RMSE: {sqrt(sklearn.metrics.mean_squared_error(ys_test, preds))}')\n",
    "    print('\\n', '-' * 80, '\\n')\n"
   ]
  },
  {
   "cell_type": "code",
   "execution_count": 42,
   "metadata": {},
   "outputs": [
    {
     "data": {
      "text/plain": [
       "['AAV_One_Hot_Model-755.pkl']"
      ]
     },
     "execution_count": 42,
     "metadata": {},
     "output_type": "execute_result"
    }
   ],
   "source": [
    "joblib.dump(grid_list[0], 'Models/AAV_One_Hot_Model-755.pkl')"
   ]
  },
  {
   "cell_type": "code",
   "execution_count": 22,
   "metadata": {},
   "outputs": [],
   "source": [
    "RidgeModel=joblib.load('Models/AAV_One_Hot_Model-755.pkl')"
   ]
  },
  {
   "cell_type": "code",
   "execution_count": null,
   "metadata": {
    "scrolled": true
   },
   "outputs": [],
   "source": [
    "preds=RFModel.predict(Xs_test)\n",
    "fig, ax = plt.subplots()\n",
    "fig.set_size_inches(18.5, 10.5)\n",
    "ax.scatter(ys_test,preds, s=2)\n",
    "lims = [\n",
    "    np.min([ax.get_xlim(), ax.get_ylim()]),  # min of both axes\n",
    "    np.max([ax.get_xlim(), ax.get_ylim()]),  # max of both axes\n",
    "]\n",
    "ax.plot(lims, lims, 'k-', alpha=0.75, zorder=0)\n",
    "ax.set_aspect('equal')\n",
    "ax.set_xlim(lims)\n",
    "ax.set_ylim(lims)\n",
    "ax.set_xlabel(\"Experimental Selection Weight\")\n",
    "ax.set_ylabel(\"Predicted Selection Weight\")\n",
    "ax.set_title(\"PLM Random Forest Correlation\")"
   ]
  },
  {
   "cell_type": "code",
   "execution_count": null,
   "metadata": {
    "scrolled": true
   },
   "outputs": [],
   "source": [
    "ridge_preds=RidgeModel.predict(X_test)\n",
    "better_preds = np.add(ridge_preds,preds)\n",
    "fig, ax = plt.subplots()\n",
    "fig.set_size_inches(18.5, 10.5)\n",
    "ax.scatter(ys_test,better_preds, s=2)\n",
    "lims = [\n",
    "    np.min([ax.get_xlim(), ax.get_ylim()]),  # min of both axes\n",
    "    np.max([ax.get_xlim(), ax.get_ylim()]),  # max of both axes\n",
    "]\n",
    "ax.plot(lims, lims, 'k-', alpha=0.75, zorder=0)\n",
    "ax.set_aspect('equal')\n",
    "ax.set_xlim(lims)\n",
    "ax.set_ylim(lims)\n",
    "ax.set_xlabel(\"Experimental Selection Weight\")\n",
    "ax.set_ylabel(\"Predicted Selection Weight\")\n",
    "ax.set_title(\"PLM Random Forest+One Hot Random Forest Correlation\")\n",
    "plt.show()\n"
   ]
  },
  {
   "cell_type": "code",
   "execution_count": null,
   "metadata": {},
   "outputs": [],
   "source": []
  }
 ],
 "metadata": {
  "kernelspec": {
   "display_name": "Python 3",
   "language": "python",
   "name": "python3"
  },
  "language_info": {
   "codemirror_mode": {
    "name": "ipython",
    "version": 3
   },
   "file_extension": ".py",
   "mimetype": "text/x-python",
   "name": "python",
   "nbconvert_exporter": "python",
   "pygments_lexer": "ipython3",
   "version": "3.6.6"
  }
 },
 "nbformat": 4,
 "nbformat_minor": 4
}
